{
 "cells": [
  {
   "cell_type": "code",
   "execution_count": 1,
   "metadata": {},
   "outputs": [],
   "source": [
    "import cv2"
   ]
  },
  {
   "cell_type": "code",
   "execution_count": 28,
   "metadata": {},
   "outputs": [],
   "source": [
    "#Connecting to internal webcam\n",
    "cap = cv2.VideoCapture(0)"
   ]
  },
  {
   "cell_type": "code",
   "execution_count": 29,
   "metadata": {},
   "outputs": [
    {
     "data": {
      "text/plain": [
       "<VideoCapture 000002057837C850>"
      ]
     },
     "execution_count": 29,
     "metadata": {},
     "output_type": "execute_result"
    }
   ],
   "source": [
    "cap"
   ]
  },
  {
   "cell_type": "code",
   "execution_count": 30,
   "metadata": {},
   "outputs": [],
   "source": [
    "#function to click photograph\n",
    "ret , photo = cap.read()"
   ]
  },
  {
   "cell_type": "code",
   "execution_count": 31,
   "metadata": {
    "scrolled": true
   },
   "outputs": [
    {
     "data": {
      "text/plain": [
       "True"
      ]
     },
     "execution_count": 31,
     "metadata": {},
     "output_type": "execute_result"
    }
   ],
   "source": [
    "ret"
   ]
  },
  {
   "cell_type": "code",
   "execution_count": 32,
   "metadata": {},
   "outputs": [
    {
     "data": {
      "text/plain": [
       "array([[[ 42,  33,  22],\n",
       "        [ 43,  32,  20],\n",
       "        [ 45,  33,  18],\n",
       "        ...,\n",
       "        [252, 241, 198],\n",
       "        [252, 242, 197],\n",
       "        [253, 243, 198]],\n",
       "\n",
       "       [[ 38,  35,  27],\n",
       "        [ 41,  36,  25],\n",
       "        [ 42,  34,  21],\n",
       "        ...,\n",
       "        [250, 240, 197],\n",
       "        [252, 242, 197],\n",
       "        [254, 244, 199]],\n",
       "\n",
       "       [[ 34,  36,  27],\n",
       "        [ 36,  36,  25],\n",
       "        [ 36,  34,  21],\n",
       "        ...,\n",
       "        [250, 240, 198],\n",
       "        [255, 245, 202],\n",
       "        [248, 238, 195]],\n",
       "\n",
       "       ...,\n",
       "\n",
       "       [[ 13,  14,   9],\n",
       "        [ 14,  15,  10],\n",
       "        [ 14,  15,  10],\n",
       "        ...,\n",
       "        [179, 174, 119],\n",
       "        [178, 174, 120],\n",
       "        [178, 174, 120]],\n",
       "\n",
       "       [[ 13,  14,   9],\n",
       "        [ 14,  15,  10],\n",
       "        [ 14,  15,  10],\n",
       "        ...,\n",
       "        [177, 174, 122],\n",
       "        [174, 174, 124],\n",
       "        [174, 175, 125]],\n",
       "\n",
       "       [[ 13,  14,   9],\n",
       "        [ 13,  14,   9],\n",
       "        [ 13,  14,   9],\n",
       "        ...,\n",
       "        [177, 175, 124],\n",
       "        [176, 176, 126],\n",
       "        [176, 176, 126]]], dtype=uint8)"
      ]
     },
     "execution_count": 32,
     "metadata": {},
     "output_type": "execute_result"
    }
   ],
   "source": [
    "photo"
   ]
  },
  {
   "cell_type": "code",
   "execution_count": 33,
   "metadata": {},
   "outputs": [
    {
     "data": {
      "text/plain": [
       "True"
      ]
     },
     "execution_count": 33,
     "metadata": {},
     "output_type": "execute_result"
    }
   ],
   "source": [
    "#file name and the photograph you want to store\n",
    "cv2.imwrite(\"anant.jpg\",photo)"
   ]
  },
  {
   "cell_type": "code",
   "execution_count": 34,
   "metadata": {},
   "outputs": [],
   "source": [
    "#To stop the webcam:\n",
    "cap.release()"
   ]
  },
  {
   "cell_type": "code",
   "execution_count": 35,
   "metadata": {},
   "outputs": [
    {
     "data": {
      "text/plain": [
       "-1"
      ]
     },
     "execution_count": 35,
     "metadata": {},
     "output_type": "execute_result"
    }
   ],
   "source": [
    "#To open the photograph with python use the following function\n",
    "cv2.imshow(\"Hello Anant\" , photo)\n",
    "\n",
    "#You have to tell for how much time and \n",
    "#delay:how long\n",
    "cv2.waitKey(5)"
   ]
  },
  {
   "cell_type": "code",
   "execution_count": 10,
   "metadata": {},
   "outputs": [],
   "source": [
    "#how to close this photograph\n",
    "cv2.destroyAllWindows()"
   ]
  }
 ],
 "metadata": {
  "kernelspec": {
   "display_name": "Python 3",
   "language": "python",
   "name": "python3"
  },
  "language_info": {
   "codemirror_mode": {
    "name": "ipython",
    "version": 3
   },
   "file_extension": ".py",
   "mimetype": "text/x-python",
   "name": "python",
   "nbconvert_exporter": "python",
   "pygments_lexer": "ipython3",
   "version": "3.8.3"
  }
 },
 "nbformat": 4,
 "nbformat_minor": 4
}
